{
 "cells": [
  {
   "cell_type": "markdown",
   "metadata": {},
   "source": [
    "# 1. 使用モジュールとそのバージョン"
   ]
  },
  {
   "cell_type": "code",
   "execution_count": 1,
   "metadata": {},
   "outputs": [
    {
     "data": {
      "text/plain": [
       "('1.19.2', '1.2.4', '1.8.1+cu111', '1.3.0', '0.1.20', '2.4.1', '2.4.1')"
      ]
     },
     "execution_count": 1,
     "metadata": {},
     "output_type": "execute_result"
    }
   ],
   "source": [
    "# プログラムの実行時間測定\n",
    "import time\n",
    "\n",
    "#データ整形('mydlmodules'は自作)\n",
    "import numpy as np\n",
    "import pandas as pd\n",
    "import mydlmodules\n",
    "\n",
    "# 深層学習モデルの構築、学習('mydlnet'は自作)\n",
    "import torch\n",
    "import torch.nn as nn\n",
    "import pytorch_lightning as pl\n",
    "import ax\n",
    "import mydlnet\n",
    "\n",
    "# モデルの学習結果表示\n",
    "import tensorboard\n",
    "import tensorflow as tf\n",
    "\n",
    "np.__version__, pd.__version__, torch.__version__, pl.__version__, ax.__version__, tensorboard.__version__, tf.__version__"
   ]
  },
  {
   "cell_type": "markdown",
   "metadata": {},
   "source": [
    "# 2. データ取得、整形"
   ]
  },
  {
   "cell_type": "code",
   "execution_count": 2,
   "metadata": {},
   "outputs": [],
   "source": [
    "# データ取得とその整形\n",
    "# 'data_info.ipynb'にて詳細\n",
    "\n",
    "time_diff_li = [i for i in range(1, 31)]\n",
    "\n",
    "train_data = pd.read_csv('train_min_BTCJPY.csv', header=None, names=['time', 'open', 'high', 'low', 'close', 'amount'])\n",
    "open_train = train_data.loc[:, 'open'].dropna().reset_index(drop=True)\n",
    "open_train_f = open_train.pct_change(720).dropna().reset_index(drop=True)\n",
    "pos_neg = open_train_f.mask(open_train_f >= 0, 1).mask(open_train_f < 0, 0).rename('pos_neg').astype(int)\n",
    "series_f = pd.concat([open_train_f, pos_neg], axis=1)\n",
    "train_loader = mydlmodules.tde_generator_class(series_f['open'], series_f['pos_neg'], time_diff_li, 300, True)\n",
    "\n",
    "val_data = pd.read_csv('val_min_BTCJPY.csv', header=None, names=['time', 'open', 'high', 'low', 'close', 'amount'])\n",
    "open_val = val_data.loc[:, 'open'].dropna().reset_index(drop=True)\n",
    "open_val_f = open_val.pct_change(720).dropna().reset_index(drop=True)\n",
    "pos_neg = open_val_f.mask(open_val_f >= 0, 1).mask(open_val_f < 0, 0).rename('pos_neg').astype(int)\n",
    "series_f = pd.concat([open_val_f, pos_neg], axis=1)\n",
    "val_loader = mydlmodules.tde_generator_class(series_f['open'], series_f['pos_neg'], time_diff_li, 50, False)\n",
    "\n",
    "test_data = pd.read_csv('test_min_BTCJPY.csv', header=None, names=['time', 'open', 'high', 'low', 'close', 'amount'])\n",
    "open_test = test_data.loc[:, 'open'].dropna().reset_index(drop=True)\n",
    "open_test_f = open_test.pct_change(720).dropna().reset_index(drop=True)\n",
    "pos_neg = open_test_f.mask(open_test_f >= 0, 1).mask(open_test_f < 0, 0).rename('pos_neg').astype(int)\n",
    "series_f = pd.concat([open_test_f, pos_neg], axis=1)\n",
    "test_loader = mydlmodules.tde_generator_class(series_f['open'], series_f['pos_neg'], time_diff_li, 50, False)"
   ]
  },
  {
   "cell_type": "markdown",
   "metadata": {},
   "source": [
    "# 3. モデルの定義と学習"
   ]
  },
  {
   "cell_type": "code",
   "execution_count": null,
   "metadata": {
    "tags": []
   },
   "outputs": [],
   "source": [
    "# ハイパーパラメータ探索\n",
    "# 出力結果が長い、かつ探索は何回か行っているのでコードのみ記載します。\n",
    "\n",
    "parameters = [\n",
    "    {'name': 'n_enc_layers',  'value_type':'int', 'type':'range', 'bounds':[3, 25]},\n",
    "    {'name': 'n_dec_layers',  'value_type':'int', 'type':'range', 'bounds':[3, 25]}\n",
    "]\n",
    "\n",
    "def evaluation_function(parameters):\n",
    "    # 下記10のパラメータが、本モデルのハイパーパラメータになります。詳細は'mydlnet.TSTransformer'のDocstringをご覧ください。\n",
    "    d_val = 8\n",
    "    d_at = 5\n",
    "    input_len = len(time_diff_li)\n",
    "    output_len = 2\n",
    "    n_enc_layers = parameters.get('n_enc_layers')\n",
    "    n_dec_layers = parameters.get('n_dec_layers')\n",
    "    n_enc_heads = 6\n",
    "    n_dec01_heads = 6\n",
    "    n_dec02_heads = 6\n",
    "    lr = 1e-5\n",
    "\n",
    "    pl.seed_everything(0)\n",
    "    net = mydlnet.TSTransformerClass(d_val, d_at, input_len, output_len, n_enc_layers, n_dec_layers, n_enc_heads, n_dec01_heads, n_dec02_heads, lr)\n",
    "    train_logger = pl.loggers.TensorBoardLogger(\"tb_logs\", name=\"ax20\", default_hp_metric=False)\n",
    "    checkpoint_callback = pl.callbacks.model_checkpoint.ModelCheckpoint(dirpath='check_points/ax20',\n",
    "                                                                        monitor='train_loss',\n",
    "                                                                        filename='{epoch:02d}-{train_loss:.2f}',\n",
    "                                                                        save_last=True)\n",
    "\n",
    "    trainer = pl.Trainer(gpus=1, max_epochs=15, benchmark=True, precision=16, amp_level='O2', logger=train_logger, callbacks=[checkpoint_callback], progress_bar_refresh_rate=0)\n",
    "    trainer.fit(net, train_loader, val_loader)\n",
    "    results = trainer.test(test_dataloaders=test_loader)\n",
    "\n",
    "    val_loss = trainer.callback_metrics['val_loss']  # 検証データの損失関数を最小化できるパラメータを探索します。\n",
    "\n",
    "    return float(val_loss)\n",
    "\n",
    "results = ax.optimize(parameters, evaluation_function, total_trials=20, minimize=True)\n"
   ]
  },
  {
   "cell_type": "code",
   "execution_count": 3,
   "metadata": {},
   "outputs": [
    {
     "name": "stderr",
     "output_type": "stream",
     "text": [
      "Global seed set to 0\n",
      "GPU available: True, used: True\n",
      "TPU available: False, using: 0 TPU cores\n",
      "Using native 16bit precision.\n",
      "LOCAL_RANK: 0 - CUDA_VISIBLE_DEVICES: [0]\n",
      "\n",
      "  | Name         | Type               | Params\n",
      "----------------------------------------------------\n",
      "0 | pos          | PositionalEncoding | 0     \n",
      "1 | enc_layers   | ModuleList         | 4.3 K \n",
      "2 | dec_layers   | ModuleList         | 8.1 K \n",
      "3 | enc_input_fc | Linear             | 16    \n",
      "4 | dec_input_fc | Linear             | 16    \n",
      "5 | out_fc       | Linear             | 482   \n",
      "----------------------------------------------------\n",
      "12.8 K    Trainable params\n",
      "0         Non-trainable params\n",
      "12.8 K    Total params\n",
      "0.051     Total estimated model params size (MB)\n",
      "Global seed set to 0\n",
      "LOCAL_RANK: 0 - CUDA_VISIBLE_DEVICES: [0]\n"
     ]
    },
    {
     "name": "stdout",
     "output_type": "stream",
     "text": [
      "--------------------------------------------------------------------------------\n",
      "DATALOADER:0 TEST RESULTS\n",
      "{'test_acc': 0.9363871216773987, 'test_loss': 0.17385032773017883}\n",
      "--------------------------------------------------------------------------------\n",
      "240.2040979862213[sec]\n"
     ]
    }
   ],
   "source": [
    "# モデルの学習\n",
    "# 探索したハイパーパラメータを用いて、モデルの学習をします。\n",
    "\n",
    "start_time = time.time()\n",
    "\n",
    "d_val = 8\n",
    "d_at = 5\n",
    "input_len = len(time_diff_li)\n",
    "output_len = 2\n",
    "n_enc_layers = 3\n",
    "n_dec_layers = 3\n",
    "n_enc_heads = 6\n",
    "n_dec01_heads = 6\n",
    "n_dec02_heads = 6\n",
    "lr = 1e-5\n",
    "\n",
    "pl.seed_everything(0)\n",
    "net = mydlnet.TSTransformerClass(d_val, d_at, input_len, output_len, n_enc_layers, n_dec_layers, n_enc_heads, n_dec01_heads, n_dec02_heads, lr)\n",
    "train_logger = pl.loggers.TensorBoardLogger(\"tb_logs\", name=\"roc_log\", default_hp_metric=False)\n",
    "checkpoint_callback = pl.callbacks.model_checkpoint.ModelCheckpoint(dirpath='check_points/roc_model',\n",
    "                                                                    monitor='train_loss',\n",
    "                                                                    filename='{epoch:02d}-{train_loss:.2f}',\n",
    "                                                                    save_last=True)\n",
    "\n",
    "trainer = pl.Trainer(gpus=1, max_epochs=20, benchmark=True, precision=16, amp_level='O2', logger=train_logger, callbacks=[checkpoint_callback], progress_bar_refresh_rate=0)\n",
    "trainer.fit(net, train_loader, val_loader)\n",
    "\n",
    "results = trainer.test(test_dataloaders=test_loader)\n",
    "\n",
    "elapsed_time = time.time() - start_time\n",
    "print (str(elapsed_time) + \"[sec]\")"
   ]
  },
  {
   "cell_type": "markdown",
   "metadata": {},
   "source": [
    "# 4. 学習結果の表示"
   ]
  },
  {
   "cell_type": "code",
   "execution_count": 7,
   "metadata": {},
   "outputs": [
    {
     "data": {
      "text/plain": [
       "(tensor(0.9361, device='cuda:0'),\n",
       " tensor(0.9622, device='cuda:0'),\n",
       " tensor(0.9364, device='cuda:0'))"
      ]
     },
     "execution_count": 7,
     "metadata": {},
     "output_type": "execute_result"
    }
   ],
   "source": [
    "# 各データにおける精度 = 価格変化率の正負をモデルが正確に予測できた割合\n",
    "trainer.callback_metrics['train_acc'], trainer.callback_metrics['val_acc'], trainer.callback_metrics['test_acc']"
   ]
  },
  {
   "cell_type": "code",
   "execution_count": 12,
   "metadata": {},
   "outputs": [
    {
     "name": "stdout",
     "output_type": "stream",
     "text": [
      "tensor([0, 0, 0, 0, 0, 0, 0, 0, 0, 0, 0, 0, 0, 0, 0, 0, 0, 0, 0, 0, 0, 0, 0, 0,\n",
      "        0, 0, 0, 0, 0, 0, 0, 0, 0, 0, 0, 0, 0, 0, 0, 0, 0, 0, 0, 0, 0, 0, 0, 0,\n",
      "        0, 0])\n",
      "tensor([0, 0, 0, 0, 0, 0, 0, 0, 0, 0, 0, 0, 0, 0, 0, 0, 0, 0, 0, 0, 0, 0, 0, 0,\n",
      "        0, 0, 0, 0, 0, 0, 0, 0, 0, 0, 0, 0, 0, 0, 0, 0, 0, 0, 0, 0, 0, 0, 0, 0,\n",
      "        0, 0])\n"
     ]
    }
   ],
   "source": [
    "eval_transformer = mydlnet.TSTransformerClass.load_from_checkpoint('check_points/roc_model/last.ckpt',\n",
    "                                                            d_val=8, d_at=5, input_len=len(time_diff_li), output_len=2,\n",
    "                                                            n_enc_layers=3, n_dec_layers=3, n_enc_heads=6, n_dec01_heads=6,\n",
    "                                                            n_dec02_heads=6, lr=1e-5\n",
    "                                                        )\n",
    "\n",
    "eval_transformer.eval()\n",
    "eval_transformer.freeze()\n",
    "\n",
    "batch = next(iter(test_loader))\n",
    "x, t = batch\n",
    "test_output = eval_transformer(x)\n",
    "out_layer = nn.Softmax(dim=1)\n",
    "out = out_layer(test_output)\n",
    "print(torch.argmax(out, dim=1))  # モデルの出力\n",
    "print(t)  # 予測値"
   ]
  }
 ],
 "metadata": {
  "kernelspec": {
   "display_name": "Python 3",
   "language": "python",
   "name": "python3"
  },
  "language_info": {
   "codemirror_mode": {
    "name": "ipython",
    "version": 3
   },
   "file_extension": ".py",
   "mimetype": "text/x-python",
   "name": "python",
   "nbconvert_exporter": "python",
   "pygments_lexer": "ipython3",
   "version": "3.8.5"
  },
  "metadata": {
   "interpreter": {
    "hash": "916dbcbb3f70747c44a77c7bcd40155683ae19c65e1c03b4aa3499c5328201f1"
   }
  }
 },
 "nbformat": 4,
 "nbformat_minor": 4
}
