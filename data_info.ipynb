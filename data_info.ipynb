{
 "cells": [
  {
   "cell_type": "markdown",
   "metadata": {},
   "source": [
    "# 1. 学習、検証、テストデータの概要"
   ]
  },
  {
   "cell_type": "code",
   "execution_count": 1,
   "metadata": {},
   "outputs": [
    {
     "name": "stdout",
     "output_type": "stream",
     "text": [
      "<class 'pandas.core.frame.DataFrame'>\n",
      "RangeIndex: 43200 entries, 0 to 43199\n",
      "Data columns (total 6 columns):\n",
      " #   Column  Non-Null Count  Dtype         \n",
      "---  ------  --------------  -----         \n",
      " 0   time    43200 non-null  datetime64[ns]\n",
      " 1   open    41643 non-null  float64       \n",
      " 2   high    41643 non-null  float64       \n",
      " 3   low     41643 non-null  float64       \n",
      " 4   close   41643 non-null  float64       \n",
      " 5   amount  41643 non-null  float64       \n",
      "dtypes: datetime64[ns](1), float64(5)\n",
      "memory usage: 2.0 MB\n",
      "None\n",
      "                 time      open      high       low     close     amount\n",
      "0 2017-07-04 17:01:00  296016.0  296558.0  296016.0  296540.0   1.158600\n",
      "1 2017-07-04 17:02:00  296539.0  296769.0  296060.0  296679.0  11.115507\n",
      "2 2017-07-04 17:03:00  296060.0  296090.0  296060.0  296060.0   5.527494\n",
      "3 2017-07-04 17:04:00  296060.0  296260.0  296015.0  296015.0   8.414064\n",
      "4 2017-07-04 17:05:00  296361.0  296540.0  296155.0  296155.0   3.993010\n",
      "                     time      open      high       low     close    amount\n",
      "43195 2017-08-03 16:56:00  302787.0  302787.0  302787.0  302787.0  0.097996\n",
      "43196 2017-08-03 16:57:00  302788.0  302788.0  302787.0  302788.0  2.737483\n",
      "43197 2017-08-03 16:58:00       NaN       NaN       NaN       NaN       NaN\n",
      "43198 2017-08-03 16:59:00  302440.0  302501.0  302420.0  302501.0  5.771248\n",
      "43199 2017-08-03 17:00:00  302400.0  302780.0  302400.0  302780.0  0.075998\n"
     ]
    }
   ],
   "source": [
    "import numpy as np\n",
    "import pandas as pd\n",
    "\n",
    "train_data = pd.read_csv('train_min_BTCJPY.csv', header=None, names=['time', 'open', 'high', 'low', 'close', 'amount'])\n",
    "train_data['time'] = pd.to_datetime(train_data['time'])\n",
    "\n",
    "print(train_data.info())  # 学習データとなる30日間の分足。'NaN'は取引がなかった時と、取引所のメンテナンス中に発生。\n",
    "print(train_data.head())\n",
    "print(train_data.tail())"
   ]
  },
  {
   "cell_type": "code",
   "execution_count": 2,
   "metadata": {},
   "outputs": [
    {
     "name": "stdout",
     "output_type": "stream",
     "text": [
      "<class 'pandas.core.frame.DataFrame'>\n",
      "RangeIndex: 10080 entries, 0 to 10079\n",
      "Data columns (total 6 columns):\n",
      " #   Column  Non-Null Count  Dtype         \n",
      "---  ------  --------------  -----         \n",
      " 0   time    10080 non-null  datetime64[ns]\n",
      " 1   open    9809 non-null   float64       \n",
      " 2   high    9809 non-null   float64       \n",
      " 3   low     9809 non-null   float64       \n",
      " 4   close   9809 non-null   float64       \n",
      " 5   amount  9809 non-null   float64       \n",
      "dtypes: datetime64[ns](1), float64(5)\n",
      "memory usage: 472.6 KB\n",
      "None\n",
      "                 time      open      high       low     close    amount\n",
      "0 2017-08-03 17:01:00  302589.0  302851.0  302589.0  302760.0  9.631020\n",
      "1 2017-08-03 17:02:00  302780.0  302852.0  302323.0  302852.0  0.259996\n",
      "2 2017-08-03 17:03:00  302852.0  302852.0  302852.0  302852.0  0.023996\n",
      "3 2017-08-03 17:04:00  302501.0  302852.0  302500.0  302852.0  6.577205\n",
      "4 2017-08-03 17:05:00  302865.0  302865.0  302500.0  302500.0  2.017794\n",
      "                     time      open      high       low     close     amount\n",
      "10075 2017-08-10 16:56:00  377900.0  377900.0  377772.0  377773.0  10.268456\n",
      "10076 2017-08-10 16:57:00  377773.0  377953.0  377500.0  377900.0  12.856200\n",
      "10077 2017-08-10 16:58:00  377500.0  377952.0  377500.0  377874.0   4.484396\n",
      "10078 2017-08-10 16:59:00  377950.0  378000.0  377715.0  378000.0  43.485589\n",
      "10079 2017-08-10 17:00:00  378000.0  378240.0  377871.0  378239.0  28.997812\n"
     ]
    }
   ],
   "source": [
    "val_data = pd.read_csv('val_min_BTCJPY.csv', header=None, names=['time', 'open', 'high', 'low', 'close', 'amount'])\n",
    "val_data['time'] = pd.to_datetime(val_data['time'])\n",
    "\n",
    "print(val_data.info())  # 検証データとなる1週間の分足\n",
    "print(val_data.head())\n",
    "print(val_data.tail())"
   ]
  },
  {
   "cell_type": "code",
   "execution_count": 3,
   "metadata": {},
   "outputs": [
    {
     "name": "stdout",
     "output_type": "stream",
     "text": [
      "<class 'pandas.core.frame.DataFrame'>\n",
      "RangeIndex: 16561 entries, 0 to 16560\n",
      "Data columns (total 6 columns):\n",
      " #   Column  Non-Null Count  Dtype         \n",
      "---  ------  --------------  -----         \n",
      " 0   time    16561 non-null  datetime64[ns]\n",
      " 1   open    16264 non-null  float64       \n",
      " 2   high    16264 non-null  float64       \n",
      " 3   low     16264 non-null  float64       \n",
      " 4   close   16264 non-null  float64       \n",
      " 5   amount  16264 non-null  float64       \n",
      "dtypes: datetime64[ns](1), float64(5)\n",
      "memory usage: 776.4 KB\n",
      "None\n",
      "                 time       open       high        low      close     amount\n",
      "0 2021-05-12 21:00:00  6151000.0  6151589.0  6144740.0  6146269.0  14.478422\n",
      "1 2021-05-12 21:01:00  6146269.0  6146996.0  6140762.0  6143139.0   2.861733\n",
      "2 2021-05-12 21:02:00  6142300.0  6147069.0  6142300.0  6145280.0   1.609866\n",
      "3 2021-05-12 21:03:00  6147072.0  6147075.0  6137814.0  6142453.0   1.097219\n",
      "4 2021-05-12 21:04:00  6139713.0  6139713.0  6134116.0  6136047.0   3.400958\n",
      "                     time       open       high        low      close  \\\n",
      "16556 2021-05-24 08:56:00  3796437.0  3809048.0  3796437.0  3800210.0   \n",
      "16557 2021-05-24 08:57:00  3800000.0  3802740.0  3796437.0  3798663.0   \n",
      "16558 2021-05-24 08:58:00  3798663.0  3802720.0  3787322.0  3788844.0   \n",
      "16559 2021-05-24 08:59:00  3786111.0  3791329.0  3780029.0  3785587.0   \n",
      "16560 2021-05-24 09:00:00  3785587.0  3813991.0  3785587.0  3802969.0   \n",
      "\n",
      "          amount  \n",
      "16556   3.707673  \n",
      "16557   5.560174  \n",
      "16558  10.259173  \n",
      "16559  10.044595  \n",
      "16560  17.639153  \n"
     ]
    }
   ],
   "source": [
    "test_data = pd.read_csv('test_min_BTCJPY.csv', header=None, names=['time', 'open', 'high', 'low', 'close', 'amount'])\n",
    "test_data['time'] = pd.to_datetime(test_data['time'])\n",
    "\n",
    "print(test_data.info())  # テストデータとなる直近の暴落した約12日間の分足\n",
    "print(test_data.head())\n",
    "print(test_data.tail())"
   ]
  },
  {
   "cell_type": "markdown",
   "metadata": {},
   "source": [
    "# 2. 価格変化率への変換"
   ]
  },
  {
   "cell_type": "code",
   "execution_count": 4,
   "metadata": {},
   "outputs": [
    {
     "data": {
      "text/plain": [
       "0    0.013031\n",
       "1    0.012716\n",
       "2    0.012541\n",
       "3    0.013716\n",
       "4    0.012497\n",
       "Name: open, dtype: float64"
      ]
     },
     "execution_count": 4,
     "metadata": {},
     "output_type": "execute_result"
    }
   ],
   "source": [
    "# 12時間前の価格と現在の価格の変化率\n",
    "open_val = val_data.loc[:, 'open'].dropna().reset_index(drop=True)\n",
    "open_val_f = open_val.pct_change(720).dropna().reset_index(drop=True)\n",
    "\n",
    "open_val_f.head()"
   ]
  },
  {
   "cell_type": "code",
   "execution_count": 5,
   "metadata": {},
   "outputs": [
    {
     "name": "stdout",
     "output_type": "stream",
     "text": [
      "0.013030876865979923\n",
      "0.012715503005482631\n",
      "0.012540778994360346\n",
      "0.013715657138323456\n",
      "0.012497317286579879\n"
     ]
    }
   ],
   "source": [
    "# 意図した計算ができているかどうか確認\n",
    "print((open_val[720] / open_val[0]) - 1)\n",
    "print((open_val[721] / open_val[1]) - 1)\n",
    "print((open_val[722] / open_val[2]) - 1)\n",
    "print((open_val[723] / open_val[3]) - 1)\n",
    "print((open_val[724] / open_val[4]) - 1)"
   ]
  },
  {
   "cell_type": "markdown",
   "metadata": {},
   "source": [
    "# 3. Dataloader化 "
   ]
  },
  {
   "cell_type": "code",
   "execution_count": 9,
   "metadata": {},
   "outputs": [
    {
     "name": "stdout",
     "output_type": "stream",
     "text": [
      "torch.Size([50, 30, 1]) torch.Size([50])\n"
     ]
    }
   ],
   "source": [
    "import mydlmodules\n",
    "\n",
    "time_diff_li = [i for i in range(1, 31)]  # 上記の変化率を30分間取得してモデルの入力値にする\n",
    "\n",
    "pos_neg = open_val_f.mask(open_val_f >= 0, 1).mask(open_val_f < 0, 0).rename('pos_neg').astype(int)\n",
    "series_f = pd.concat([open_val_f, pos_neg], axis=1)\n",
    "train_loader = mydlmodules.tde_generator_class(series_f['open'], series_f['pos_neg'], time_diff_li, 50, False)\n",
    "batch = next(iter(train_loader))\n",
    "x, t = batch\n",
    "print(x.shape, t.shape)"
   ]
  },
  {
   "cell_type": "code",
   "execution_count": 10,
   "metadata": {},
   "outputs": [
    {
     "name": "stdout",
     "output_type": "stream",
     "text": [
      "tensor([0.0130])\n",
      "tensor([0.0140])\n",
      "tensor(1)\n"
     ]
    }
   ],
   "source": [
    "print(x[0][0])  #入力値の最初の値\n",
    "print(x[0][29]) #入力値の最後の値\n",
    "print(t[0])  # 予測値。1分後の価格とその12時間前の価格の変化率が'+'なら'1'、'-'なら'0'"
   ]
  },
  {
   "cell_type": "code",
   "execution_count": 8,
   "metadata": {},
   "outputs": [
    {
     "name": "stdout",
     "output_type": "stream",
     "text": [
      "tensor(0.0130, dtype=torch.float64)\n",
      "tensor(0.0140, dtype=torch.float64)\n",
      "0.01404628837970856\n"
     ]
    }
   ],
   "source": [
    "import torch\n",
    "\n",
    "print(torch.tensor((open_val[720] / open_val[0]) - 1))\n",
    "print(torch.tensor((open_val[749] / open_val[29]) - 1))\n",
    "print((open_val[750] / open_val[30]) - 1)"
   ]
  }
 ],
 "metadata": {
  "kernelspec": {
   "display_name": "Python 3",
   "language": "python",
   "name": "python3"
  },
  "language_info": {
   "codemirror_mode": {
    "name": "ipython",
    "version": 3
   },
   "file_extension": ".py",
   "mimetype": "text/x-python",
   "name": "python",
   "nbconvert_exporter": "python",
   "pygments_lexer": "ipython3",
   "version": "3.8.5"
  },
  "metadata": {
   "interpreter": {
    "hash": "916dbcbb3f70747c44a77c7bcd40155683ae19c65e1c03b4aa3499c5328201f1"
   }
  }
 },
 "nbformat": 4,
 "nbformat_minor": 4
}
